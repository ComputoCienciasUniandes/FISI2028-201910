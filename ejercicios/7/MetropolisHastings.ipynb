{
 "cells": [
  {
   "cell_type": "markdown",
   "metadata": {},
   "source": [
    "# Metropolis Hastings\n",
    "\n",
    "En esta sección vamos a ver tres métodos diferentes para generar una muestra de\n",
    "puntos que sigan una distribución determinada y así motivar el uso del algoritmo Metropolis-Hastings\n",
    "La función de distribución que vamos a utilizar es $\\frac{1}{2}\\sin(x)$ en el intervalo $0<x<\\pi$."
   ]
  },
  {
   "cell_type": "markdown",
   "metadata": {},
   "source": [
    "Primero vamos a visualizar la forma de esta función"
   ]
  },
  {
   "cell_type": "code",
   "execution_count": null,
   "metadata": {},
   "outputs": [],
   "source": [
    "import numpy as np\n",
    "import matplotlib.pyplot as plt\n",
    "%matplotlib inline"
   ]
  },
  {
   "cell_type": "code",
   "execution_count": null,
   "metadata": {},
   "outputs": [],
   "source": [
    "n_puntos=1000\n",
    "x = np.linspace(0, np.pi)\n",
    "def f(x):\n",
    "    y = 0.5 * np.sin(x)\n",
    "    if(np.isscalar(x)):# esto va a funcionar si entra un numero\n",
    "        if (x>np.pi) | (x<0):\n",
    "            y = 0\n",
    "    else: #esto va a funcionar si entra un array\n",
    "        ii = (x>np.pi) | (x<0)\n",
    "        y[ii] = 0.0\n",
    "    return y"
   ]
  },
  {
   "cell_type": "code",
   "execution_count": null,
   "metadata": {},
   "outputs": [],
   "source": [
    "plt.plot(x, f(x))\n",
    "plt.xlabel('x')\n",
    "plt.ylabel('PDF(x)')"
   ]
  },
  {
   "cell_type": "markdown",
   "metadata": {},
   "source": [
    "# Fuerza Bruta\n",
    "\n",
    "El primer método que vamos a utlizar para generar $N$ puntos que sigan esta distribución es fuerza bruta.\n",
    "\n",
    "Vamos a generar un punto $x_i$ de una distribución uniforme entre $0$ y $\\pi$. Luego para cada punto $x_i$ generamos un segundo n\\'umero aleatorio $y_i$ de una distribuci\\'on uniforme entre $0$ y el m\\'aximo de $f(x)$ (que en este caso es 0.5) y nos preguntamos si $y_i<f(x_i)$; en caso afirmativo entonces incluimos a $x_i$ en la lista, en caso negativo descartamos a $x_i$.\n",
    "\n",
    "Escrito en código este metodo se ve asi"
   ]
  },
  {
   "cell_type": "code",
   "execution_count": null,
   "metadata": {},
   "outputs": [],
   "source": [
    "N = 100000\n",
    "\n",
    "n_adentro = 0\n",
    "n_intentos = 0\n",
    "lista = []\n",
    "while n_adentro < N:\n",
    "    x_i = np.random.random()*np.pi\n",
    "    y_i = np.random.random()*1/2\n",
    "    n_intentos += 1\n",
    "    if(y_i < f(x_i)):\n",
    "        lista.append(x_i)\n",
    "        n_adentro +=1 "
   ]
  },
  {
   "cell_type": "code",
   "execution_count": null,
   "metadata": {},
   "outputs": [],
   "source": [
    "plt.plot(x, f(x))\n",
    "_ = plt.hist(lista, density=True, bins=x)"
   ]
  },
  {
   "cell_type": "markdown",
   "metadata": {},
   "source": [
    "El problema es que tuvimos que generar muchos mas numeros (`n_intentos`) de los que al final \n",
    "terminaron en la lista `n_adentro`"
   ]
  },
  {
   "cell_type": "code",
   "execution_count": null,
   "metadata": {},
   "outputs": [],
   "source": [
    "print(n_adentro/n_intentos)"
   ]
  },
  {
   "cell_type": "markdown",
   "metadata": {},
   "source": [
    "# Integración analítica\n",
    "\n",
    "El segundo método utiliza la integral cumulativa  $g(x) = \\int_0^x f(y)dy$ que por definición se\n",
    "encuentra entre 0 y 1. En nuestro ejemplo tenemos $g(x)=-\\frac{1}{2}\\cos(x) + \\frac{1}{2}$"
   ]
  },
  {
   "cell_type": "code",
   "execution_count": null,
   "metadata": {},
   "outputs": [],
   "source": [
    "def cumul_f(x):\n",
    "    return - 0.5 * np.cos(x) + 0.5"
   ]
  },
  {
   "cell_type": "code",
   "execution_count": null,
   "metadata": {},
   "outputs": [],
   "source": [
    "plt.plot(x, cumul_f(x))\n",
    "plt.xlabel('x')\n",
    "plt.ylabel('PDF(x) cumulativa')"
   ]
  },
  {
   "cell_type": "markdown",
   "metadata": {},
   "source": [
    "Si generamos puntos $z_i$ con una distribucion uniforme entre 0 y 1, y calculamos $x_i=g^{-1}(z_i)$ todos los $x_i$ van a seguir la distribucion $f(x)$.\n",
    "\n",
    "En nuestro caso $g^{-1}(x)$ es $\\arccos(-2.0(x-\\frac{1}{2}))$"
   ]
  },
  {
   "cell_type": "code",
   "execution_count": null,
   "metadata": {},
   "outputs": [],
   "source": [
    "def inversa_cumul_f(x):\n",
    "    return np.arccos(-2.0*(x-0.5))"
   ]
  },
  {
   "cell_type": "code",
   "execution_count": null,
   "metadata": {},
   "outputs": [],
   "source": [
    "z = np.linspace(0,1.0, n_puntos)\n",
    "plt.plot(z, inversa_cumul_f(z))\n",
    "plt.xlabel('x')\n",
    "plt.ylabel('Inversa de la PDF(x) cumulativa')"
   ]
  },
  {
   "cell_type": "code",
   "execution_count": null,
   "metadata": {},
   "outputs": [],
   "source": [
    "#De esta manera solamente tenemos que calcular\n",
    "\n",
    "N = 100000\n",
    "z = np.random.random(N)\n",
    "lista = inversa_cumul_f(z)"
   ]
  },
  {
   "cell_type": "code",
   "execution_count": null,
   "metadata": {},
   "outputs": [],
   "source": [
    "plt.plot(x, f(x))\n",
    "_ = plt.hist(lista, density=True, bins=x)"
   ]
  },
  {
   "cell_type": "markdown",
   "metadata": {},
   "source": [
    "La desventaja de este metodo es que solamente es util si podemos integrar e invertir analiticamente la funcion de distribucion."
   ]
  },
  {
   "cell_type": "markdown",
   "metadata": {},
   "source": [
    "# Metropolis Hastings\n",
    "\n",
    "Este algoritmo evita los problemas de los dos metodos anteriores.\n",
    "Primero, para generar N no voy a desperdiciar intentos; y segundo, no voy a necesitar una integral \n",
    "analitica de la distribución que necesito muestrear.\n",
    "\n",
    "En este algoritmo tengos los siguiente pasos:\n",
    "\n",
    "0. empiezo con un número aleatorio $x_1$ que se encuentra en el rango de la PDF (puede venir de una distribución uniforme.)\n",
    "1. propongo un número $x_{2}$ que viene de $x_{1}$ pero con un salto $\\delta x$, $x_{2}=x_{1}+\\delta_x$. Usualmente este $\\delta_x$ es un número aleatorio que viene de una gaussiana centrada en cero y desviación estándar $\\sigma$. \n",
    "2. Comparo la función de distribución en los dos puntos $r=f(x_{2})/f(x_{1})$.\n",
    "3. Genero  un número aleatorio $\\alpha$ de una distribución uniforme entre 0 y 1.\n",
    "4. Comparo $\\alpha$ con $r$, si $\\alpha>r$ entonces incluyo el punto $x_2$ en mi lista, en el caso contrario incluyo a $x_{1}$ en la lista. \n",
    "\n",
    "Los pasos 1 a 4 se repiten hasta tener $N$ puntos en mi lista.\n",
    "\n",
    "Escrito en código tenemos lo siguiente:"
   ]
  },
  {
   "cell_type": "code",
   "execution_count": null,
   "metadata": {},
   "outputs": [],
   "source": [
    "N = 100000\n",
    "lista = [np.random.random()*np.pi]\n",
    "sigma_delta = 1.0\n",
    "\n",
    "for i in range(1,N):\n",
    "    propuesta  = lista[i-1] + np.random.normal(loc=0.0, scale=sigma_delta)\n",
    "    r = min(1,f(propuesta)/f(lista[i-1]))\n",
    "    alpha = np.random.random()\n",
    "    if(alpha<r):\n",
    "        lista.append(propuesta)\n",
    "    else:\n",
    "        lista.append(lista[i-1])"
   ]
  },
  {
   "cell_type": "code",
   "execution_count": null,
   "metadata": {},
   "outputs": [],
   "source": [
    "plt.plot(x, f(x))\n",
    "_ = plt.hist(lista, density=True, bins=x)"
   ]
  },
  {
   "cell_type": "markdown",
   "metadata": {},
   "source": [
    "# Ejercicio 2.1\n",
    "\n",
    "Muestree con Metrópolis Hastings la misma distribución que hemos venido utilizando hasta ahora en dos condiciones diferentes:\n",
    "\n",
    "1. `sigma_delta=0.001`\n",
    "2. `sigma_delta=1000.0`\n",
    "\n",
    "Prepare gráficas para los dos casos. ¿Cómo explicaría la diferencia entre las dos situaciones?"
   ]
  },
  {
   "cell_type": "code",
   "execution_count": null,
   "metadata": {},
   "outputs": [],
   "source": []
  },
  {
   "cell_type": "code",
   "execution_count": null,
   "metadata": {},
   "outputs": [],
   "source": []
  }
 ],
 "metadata": {
  "kernelspec": {
   "display_name": "Python 3",
   "language": "python",
   "name": "python3"
  },
  "language_info": {
   "codemirror_mode": {
    "name": "ipython",
    "version": 3
   },
   "file_extension": ".py",
   "mimetype": "text/x-python",
   "name": "python",
   "nbconvert_exporter": "python",
   "pygments_lexer": "ipython3",
   "version": "3.6.6"
  }
 },
 "nbformat": 4,
 "nbformat_minor": 2
}
